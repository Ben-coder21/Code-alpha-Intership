{
 "cells": [
  {
   "cell_type": "markdown",
   "id": "ff611603-28cc-4eae-8dfd-a5c0264b65a9",
   "metadata": {},
   "source": [
    "# TASK 1\n",
    "# FIBONACCI GENERATOR\n",
    "# The Fibonacci series is a sequence where each number is the sum of the two preceding numbers, defined by a mathematical recurrence relationship."
   ]
  },
  {
   "cell_type": "code",
   "execution_count": 7,
   "id": "ade2d4f1-518b-4606-a98f-bb86e9e2f5c0",
   "metadata": {},
   "outputs": [
    {
     "name": "stdin",
     "output_type": "stream",
     "text": [
      "Enter the number of terms:  -5\n"
     ]
    },
    {
     "name": "stdout",
     "output_type": "stream",
     "text": [
      "Invalid input: The number of terms must be a non-negative integer.\n"
     ]
    },
    {
     "name": "stdin",
     "output_type": "stream",
     "text": [
      "Enter the number of terms:  r\n"
     ]
    },
    {
     "name": "stdout",
     "output_type": "stream",
     "text": [
      "Invalid input: invalid literal for int() with base 10: 'r'\n"
     ]
    },
    {
     "name": "stdin",
     "output_type": "stream",
     "text": [
      "Enter the number of terms:  5\n"
     ]
    },
    {
     "name": "stdout",
     "output_type": "stream",
     "text": [
      "Fibonacci Series: [0, 1, 1, 2, 3]\n"
     ]
    }
   ],
   "source": [
    "class Fibonacci:\n",
    "    def __init__(self):\n",
    "        self.memo = {0: 0, 1: 1}\n",
    "\n",
    "    def calculate(self, n):\n",
    "        if n not in self.memo:\n",
    "            self.memo[n] = self.calculate(n - 1) + self.calculate(n - 2)\n",
    "        return self.memo[n]\n",
    "\n",
    "    def generate_series(self, n):\n",
    "        series = [self.calculate(i) for i in range(n)]\n",
    "        return series\n",
    "\n",
    "def main():\n",
    "    while True:\n",
    "        try:\n",
    "            num = int(input(\"Enter the number of terms: \"))\n",
    "            if num < 0:\n",
    "                raise ValueError(\"The number of terms must be a non-negative integer.\")\n",
    "            break\n",
    "        except ValueError as e:\n",
    "            print(f\"Invalid input: {e}\")\n",
    "\n",
    "    fib = Fibonacci()\n",
    "    series = fib.generate_series(num)\n",
    "    print(\"Fibonacci Series:\", series)\n",
    "\n",
    "if __name__ == \"__main__\":\n",
    "    main()\n"
   ]
  },
  {
   "cell_type": "code",
   "execution_count": null,
   "id": "b5f74bae-6e02-4baa-b41a-51e887c37d47",
   "metadata": {},
   "outputs": [],
   "source": []
  }
 ],
 "metadata": {
  "kernelspec": {
   "display_name": "Python 3 (ipykernel)",
   "language": "python",
   "name": "python3"
  },
  "language_info": {
   "codemirror_mode": {
    "name": "ipython",
    "version": 3
   },
   "file_extension": ".py",
   "mimetype": "text/x-python",
   "name": "python",
   "nbconvert_exporter": "python",
   "pygments_lexer": "ipython3",
   "version": "3.11.7"
  }
 },
 "nbformat": 4,
 "nbformat_minor": 5
}
